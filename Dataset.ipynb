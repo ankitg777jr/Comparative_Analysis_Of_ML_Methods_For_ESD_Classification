{
 "cells": [
  {
   "cell_type": "code",
   "execution_count": 166,
   "metadata": {
    "collapsed": true,
    "jupyter": {
     "outputs_hidden": true
    },
    "tags": []
   },
   "outputs": [
    {
     "name": "stdout",
     "output_type": "stream",
     "text": [
      "Requirement already satisfied: numpy in c:\\users\\jayan\\appdata\\local\\programs\\python\\python39\\lib\\site-packages (1.21.2)\n",
      "Requirement already satisfied: pandas in c:\\users\\jayan\\appdata\\local\\programs\\python\\python39\\lib\\site-packages (1.3.3)\n",
      "Requirement already satisfied: numpy>=1.17.3 in c:\\users\\jayan\\appdata\\local\\programs\\python\\python39\\lib\\site-packages (from pandas) (1.21.2)\n",
      "Requirement already satisfied: python-dateutil>=2.7.3 in c:\\users\\jayan\\appdata\\local\\programs\\python\\python39\\lib\\site-packages (from pandas) (2.8.2)\n",
      "Requirement already satisfied: pytz>=2017.3 in c:\\users\\jayan\\appdata\\local\\programs\\python\\python39\\lib\\site-packages (from pandas) (2021.1)\n",
      "Requirement already satisfied: six>=1.5 in c:\\users\\jayan\\appdata\\local\\programs\\python\\python39\\lib\\site-packages (from python-dateutil>=2.7.3->pandas) (1.16.0)\n",
      "Requirement already satisfied: matplotlib in c:\\users\\jayan\\appdata\\local\\programs\\python\\python39\\lib\\site-packages (3.4.3)\n",
      "Requirement already satisfied: pillow>=6.2.0 in c:\\users\\jayan\\appdata\\local\\programs\\python\\python39\\lib\\site-packages (from matplotlib) (8.3.2)\n",
      "Requirement already satisfied: pyparsing>=2.2.1 in c:\\users\\jayan\\appdata\\local\\programs\\python\\python39\\lib\\site-packages (from matplotlib) (2.4.7)\n",
      "Requirement already satisfied: cycler>=0.10 in c:\\users\\jayan\\appdata\\local\\programs\\python\\python39\\lib\\site-packages (from matplotlib) (0.10.0)\n",
      "Requirement already satisfied: numpy>=1.16 in c:\\users\\jayan\\appdata\\local\\programs\\python\\python39\\lib\\site-packages (from matplotlib) (1.21.2)\n",
      "Requirement already satisfied: python-dateutil>=2.7 in c:\\users\\jayan\\appdata\\local\\programs\\python\\python39\\lib\\site-packages (from matplotlib) (2.8.2)\n",
      "Requirement already satisfied: kiwisolver>=1.0.1 in c:\\users\\jayan\\appdata\\local\\programs\\python\\python39\\lib\\site-packages (from matplotlib) (1.3.2)\n",
      "Requirement already satisfied: six in c:\\users\\jayan\\appdata\\local\\programs\\python\\python39\\lib\\site-packages (from cycler>=0.10->matplotlib) (1.16.0)\n",
      "Requirement already satisfied: scikit-learn in c:\\users\\jayan\\appdata\\local\\programs\\python\\python39\\lib\\site-packages (1.0)\n",
      "Requirement already satisfied: joblib>=0.11 in c:\\users\\jayan\\appdata\\local\\programs\\python\\python39\\lib\\site-packages (from scikit-learn) (1.0.1)\n",
      "Requirement already satisfied: scipy>=1.1.0 in c:\\users\\jayan\\appdata\\local\\programs\\python\\python39\\lib\\site-packages (from scikit-learn) (1.7.1)\n",
      "Requirement already satisfied: numpy>=1.14.6 in c:\\users\\jayan\\appdata\\local\\programs\\python\\python39\\lib\\site-packages (from scikit-learn) (1.21.2)\n",
      "Requirement already satisfied: threadpoolctl>=2.0.0 in c:\\users\\jayan\\appdata\\local\\programs\\python\\python39\\lib\\site-packages (from scikit-learn) (2.2.0)\n",
      "Collecting xgboost\n",
      "  Downloading xgboost-1.4.2-py3-none-win_amd64.whl (97.8 MB)\n",
      "Requirement already satisfied: numpy in c:\\users\\jayan\\appdata\\local\\programs\\python\\python39\\lib\\site-packages (from xgboost) (1.21.2)\n",
      "Requirement already satisfied: scipy in c:\\users\\jayan\\appdata\\local\\programs\\python\\python39\\lib\\site-packages (from xgboost) (1.7.1)\n",
      "Installing collected packages: xgboost\n",
      "Successfully installed xgboost-1.4.2\n"
     ]
    }
   ],
   "source": [
    "!pip install numpy\n",
    "!pip install pandas\n",
    "!pip install matplotlib\n",
    "!pip install scikit-learn\n",
    "!pip install xgboost"
   ]
  },
  {
   "cell_type": "code",
   "execution_count": 124,
   "metadata": {},
   "outputs": [],
   "source": [
    "import numpy as np\n",
    "import pandas as pd\n",
    "import matplotlib.pyplot as plt\n",
    "import warnings\n",
    "warnings.filterwarnings('ignore')"
   ]
  },
  {
   "cell_type": "code",
   "execution_count": 11,
   "metadata": {},
   "outputs": [],
   "source": [
    "# Database dermatolgy\n",
    "class_labels = { 1 : 'psoriasis', \n",
    "                 2 : 'seboreic dermatitis',\n",
    "                 3 : 'lichen planus',\n",
    "                 4 : 'pityriasis rosea',\n",
    "                 5 : 'cronic dermatitis',\n",
    "                 6 : 'pityriasis rubra pilaris' }"
   ]
  },
  {
   "cell_type": "code",
   "execution_count": 80,
   "metadata": {
    "jupyter": {
     "source_hidden": true
    },
    "tags": []
   },
   "outputs": [],
   "source": [
    "from collections import defaultdict\n",
    "\n",
    "data = defaultdict(list)\n",
    "with open('dermatology.data', 'r') as f:\n",
    "    dataset = f.readlines()\n",
    "\n",
    "for line in dataset:\n",
    "    values = [np.NaN if value == '?' else int(value) for value in line.split(',')]\n",
    "    \n",
    "    data['erythema'].append(values[0])\n",
    "    '''\n",
    "    Symptoms\n",
    "    -> Circular, red bumps on the soles, palms, arms, face and legs that grow into circles, may look like targets\n",
    "    -> Itchiness, in some cases\n",
    "    -> Painful sores or blisters on the lips, mouth, eyes and genitals\n",
    "    -> Red patches with pale rings inside the patch with purple centers and small blisters called target lesions\n",
    "    -> Fever, Joint pain\n",
    "    Take values -> 0, 1, 2, 3\n",
    "    '''\n",
    "    \n",
    "    data['scaling'].append(values[1])\n",
    "    '''\n",
    "    Symptoms\n",
    "    -> Patches of dry skin typically appear on the elbows and lower legs \n",
    "    -> Flaky scalp\n",
    "    -> Itchy skin\n",
    "    -> Polygon-shaped scales on the skin\n",
    "    -> Scales that are brown, gray, or white\n",
    "    -> Dry skin\n",
    "    Take values -> 0, 1, 2, 3\n",
    "    '''\n",
    "    \n",
    "    data['definite borders'].append(values[2])\n",
    "    '''\n",
    "    Symptoms\n",
    "    -> Iregular or jagged or wavy borders around affected area\n",
    "    Take values -> 0, 1, 2, 3\n",
    "    '''\n",
    "    \n",
    "    data['itching'].append(values[3])\n",
    "    '''\n",
    "    Symptoms\n",
    "    ->  Irritating sensation that makes you want to scratch your skin\n",
    "    ->  Sometimes it can feel like pain\n",
    "    ->  Either in one area or all over body\n",
    "    ->  May have a rash or hives\n",
    "    Take values -> 0, 1, 2, 3\n",
    "    '''\n",
    "    \n",
    "    data['koebner phenomenon'].append(values[4])\n",
    "    '''\n",
    "    Symptoms\n",
    "    ->  Due toa a cut or a burn\n",
    "    ->  Discoloration of the skin\n",
    "    ->  Develop on parts of the body where the skin is irritated by a waistband or belt buckle\n",
    "    Take values -> 0, 1, 2, 3\n",
    "    '''\n",
    "        \n",
    "    data['polygonal papules'].append(values[5])\n",
    "    '''\n",
    "    Symptoms\n",
    "    ->  Appears as small, flat-topped, red-to-purple bumps with round or irregular shape\n",
    "    ->  Few small bumps or many\n",
    "    ->  There are white scales or flakes on them\n",
    "    Take values -> 0, 1, 2, 3\n",
    "    '''\n",
    "        \n",
    "    data['follicular papules'].append(values[6])\n",
    "    '''\n",
    "    Symptoms\n",
    "    ->  Clusters of small red bumps or white-headed pimples that develop around hair follicles\n",
    "    ->  Pus-filled blisters that break open and crust over\n",
    "    ->  Itchy and burning skin\n",
    "    Take values -> 0, 1, 2, 3\n",
    "    ''' \n",
    "        \n",
    "    data['oral mucosal involvement'].append(values[7])\n",
    "    '''\n",
    "    Symptoms\n",
    "    ->  Affect the inside of the lips, cheeks, gums, tongue, and throat\n",
    "    ->  Diffuse lip\n",
    "    ->  Patches on the top layer of skin.\n",
    "    ->  Painful\n",
    "    Take values -> 0, 1, 2, 3\n",
    "    '''\n",
    "    \n",
    "    data['knee and elbow involvement'].append(values[8])\n",
    "    '''\n",
    "    Symptoms\n",
    "    ->  Pain, swelling and stiffness because of joint inflammation\n",
    "    ->  Itchy, painful red patches or a silvery white buildup of dead skin cells\n",
    "    ->  Most commonly on the knees, elbows and scalp\n",
    "    Take values -> 0, 1, 2, 3\n",
    "    '''\n",
    "    \n",
    "    data['scalp involvement'].append(values[9])\n",
    "    '''\n",
    "    Symptoms\n",
    "    ->  Itchy, scaly, red patches on the scalp, hairline and ears\n",
    "    ->  Hair loss or Male pattern baldness\n",
    "    ->  Presence of head lice\n",
    "    Take values -> 0, 1, 2, 3\n",
    "    '''\n",
    "    \n",
    "    data['family history'].append(values[10])\n",
    "    '''\n",
    "    ->  Any family history for skin diseases, Yes or No\n",
    "    Take values -> 0, 1\n",
    "    '''\n",
    "    \n",
    "    data['melanin incontinence'].append(values[11])\n",
    "    '''\n",
    "    Symptoms\n",
    "    ->  \n",
    "    Take values -> 0, 1, 2, 3\n",
    "    '''\n",
    "    \n",
    "    data['eosinophils in the infiltrate'].append(values[12])\n",
    "    '''\n",
    "    Symptoms\n",
    "    ->  Pain and swelling and inflammation of the skin \n",
    "    ->  Especially of the arms and legs\n",
    "    Take values -> 0, 1, 2, 3\n",
    "    '''\n",
    "        \n",
    "    data['PNL infiltrate'].append(values[13])\n",
    "    '''\n",
    "    Symptoms\n",
    "    ->  Itchiness, redness of the skin and pimple-like eruptions\n",
    "    ->  On areas exposed to sunlight\n",
    "    ->  May last up to several months\n",
    "    Take values -> 0, 1, 2, 3\n",
    "    '''\n",
    "        \n",
    "    data['fibrosis of the papillary dermis'].append(values[14])\n",
    "    '''\n",
    "    Symptoms\n",
    "    ->  Swelling and tightening of the skin\n",
    "    ->  Thickening and hardening of the skin\n",
    "    ->  Skin that may feel \"woody\" and develop an orange-peel appearance \n",
    "    ->  Darkening (excess pigmentation)\n",
    "    Take values -> 0, 1, 2, 3\n",
    "    '''\n",
    "        \n",
    "    data['exocytosis'].append(values[15])\n",
    "    '''\n",
    "    Symptoms\n",
    "    ->  Inflammatory cells within epidermis  \n",
    "    Take values -> 0, 1, 2, 3\n",
    "    '''\n",
    "    \n",
    "    data['acanthosis'].append(values[16])\n",
    "    '''\n",
    "    Symptoms\n",
    "    ->  Dark, thickened, velvety skin in body folds\n",
    "    ->  Creases in your armpits, groin and back of the neck\n",
    "    ->  Skin changes usually appear slowly\n",
    "    ->  Affected skin may also have an odor or itch\n",
    "    Take values -> 0, 1, 2, 3\n",
    "    '''\n",
    "    \n",
    "    data['hyperkeratosis'].append(values[17])\n",
    "    '''\n",
    "    Symptoms\n",
    "    ->  thick spots on the bottom of the foot and hands\n",
    "    ->  Whitish areas inside the mouth\n",
    "    ->  Thickened Skin\n",
    "    ->  Blisters\n",
    "    ->  Red, Scaly Patches\n",
    "    ->  Thickened spots of skin on the toes or top of the foot, and can appear as dull, rounded bumps\n",
    "    Take values -> 0, 1, 2, 3\n",
    "    '''\n",
    "    \n",
    "    data['parakeratosis'].append(values[18])\n",
    "    '''\n",
    "    Symptoms\n",
    "    ->  Brown or red, scaly solid elevation of skin with no visible fluid\n",
    "    Take values -> 0, 1, 2, 3\n",
    "    '''\n",
    "    \n",
    "    data['clubbing of the rete ridges'].append(values[19])\n",
    "    '''\n",
    "    Symptoms\n",
    "    ->  \n",
    "    Take values -> 0, 1, 2, 3\n",
    "    '''\n",
    "    \n",
    "    data['elongation of the rete ridges'].append(values[20])\n",
    "    '''\n",
    "    Symptoms\n",
    "    ->  A flattened brown pigmented spot on the skin  \n",
    "    Take values -> 0, 1, 2, 3\n",
    "    '''\n",
    "    \n",
    "    data['thinning of the suprapapillary epidermis'].append(values[21])\n",
    "    '''\n",
    "    Symptoms\n",
    "    ->  \n",
    "    Take values -> 0, 1, 2, 3\n",
    "    '''\n",
    "    \n",
    "    data['spongiform pustule'].append(values[22])\n",
    "    '''\n",
    "    Symptoms\n",
    "    ->  Small bumps on the skin that contain fluid or pus\n",
    "    ->  Appear as white bumps surrounded by red skin\n",
    "    ->  Any part of the body but they most commonly form on the back, chest, and face.\n",
    "    Take values -> 0, 1, 2, 3\n",
    "    '''\n",
    "    \n",
    "    data['munro microabscess'].append(values[23])\n",
    "    '''\n",
    "    Symptoms\n",
    "    ->   \n",
    "    Take values -> 0, 1, 2, 3\n",
    "    '''\n",
    "    \n",
    "    data['focal hypergranulosis'].append(values[24])\n",
    "    '''\n",
    "    Symptoms\n",
    "    ->  Skin becomes thicker than normal \n",
    "    Take values -> 0, 1, 2, 3\n",
    "    '''\n",
    "    \n",
    "    data['disappearance of the granular layer'].append(values[25])\n",
    "    '''\n",
    "    Symptoms\n",
    "    ->   \n",
    "    Take values -> 0, 1, 2, 3\n",
    "    '''\n",
    "    \n",
    "    data['vacuolisation and damage of basal layer'].append(values[26])\n",
    "    '''\n",
    "    Symptoms\n",
    "    ->  \n",
    "    Take values -> 0, 1, 2, 3\n",
    "    '''\n",
    "    \n",
    "    data['spongiosis'].append(values[27])\n",
    "    '''\n",
    "    Symptoms\n",
    "    ->  Scaly patches of irritated skin\n",
    "    ->  Rashes in the shape of coins\n",
    "    ->  Reddened skin\n",
    "    ->  Dandruff that's difficult to get rid of\n",
    "    ->  Oozing and infection after scratching an affected area\n",
    "    Take values -> 0, 1, 2, 3\n",
    "    '''\n",
    "    \n",
    "    data['saw-tooth appearance of retes'].append(values[28])\n",
    "    '''\n",
    "    Symptoms\n",
    "    ->  \n",
    "    Take values -> 0, 1, 2, 3\n",
    "    '''\n",
    "    \n",
    "    data['follicular horn plug'].append(values[29])\n",
    "    '''\n",
    "    Symptoms\n",
    "    ->  Rash\n",
    "    Take values -> 0, 1, 2, 3\n",
    "    '''\n",
    "    \n",
    "    data['perifollicular parakeratosis'].append(values[30])\n",
    "    '''\n",
    "    Symptoms\n",
    "    ->  \n",
    "    Take values -> 0, 1, 2, 3\n",
    "    '''\n",
    "    \n",
    "    data['inflammatory monoluclear inflitrate'].append(values[31])\n",
    "    '''\n",
    "    Symptoms\n",
    "    ->  White blood cells collect at the site of injury to help clear away the debris\n",
    "    Take values -> 0, 1, 2, 3\n",
    "    '''\n",
    "    \n",
    "    data['band-like infiltrate'].append(values[32])\n",
    "    '''\n",
    "    Symptoms\n",
    "    ->  Inflammation at or near the insertion site with swollen, taut skin with pain\n",
    "    ->  Patchy band like pattern\n",
    "    Take values -> 0, 1, 2, 3\n",
    "    '''\n",
    "    \n",
    "    data['age'].append(values[33])\n",
    "    \n",
    "    data['class label'].append(values[34])"
   ]
  },
  {
   "cell_type": "code",
   "execution_count": 81,
   "metadata": {},
   "outputs": [],
   "source": [
    "df = pd.DataFrame(data, columns = data.keys())"
   ]
  },
  {
   "cell_type": "code",
   "execution_count": 84,
   "metadata": {},
   "outputs": [
    {
     "data": {
      "text/html": [
       "<div>\n",
       "<style scoped>\n",
       "    .dataframe tbody tr th:only-of-type {\n",
       "        vertical-align: middle;\n",
       "    }\n",
       "\n",
       "    .dataframe tbody tr th {\n",
       "        vertical-align: top;\n",
       "    }\n",
       "\n",
       "    .dataframe thead th {\n",
       "        text-align: right;\n",
       "    }\n",
       "</style>\n",
       "<table border=\"1\" class=\"dataframe\">\n",
       "  <thead>\n",
       "    <tr style=\"text-align: right;\">\n",
       "      <th></th>\n",
       "      <th>erythema</th>\n",
       "      <th>scaling</th>\n",
       "      <th>definite borders</th>\n",
       "      <th>itching</th>\n",
       "      <th>koebner phenomenon</th>\n",
       "      <th>polygonal papules</th>\n",
       "      <th>follicular papules</th>\n",
       "      <th>oral mucosal involvement</th>\n",
       "      <th>knee and elbow involvement</th>\n",
       "      <th>scalp involvement</th>\n",
       "      <th>...</th>\n",
       "      <th>disappearance of the granular layer</th>\n",
       "      <th>vacuolisation and damage of basal layer</th>\n",
       "      <th>spongiosis</th>\n",
       "      <th>saw-tooth appearance of retes</th>\n",
       "      <th>follicular horn plug</th>\n",
       "      <th>perifollicular parakeratosis</th>\n",
       "      <th>inflammatory monoluclear inflitrate</th>\n",
       "      <th>band-like infiltrate</th>\n",
       "      <th>age</th>\n",
       "      <th>class label</th>\n",
       "    </tr>\n",
       "  </thead>\n",
       "  <tbody>\n",
       "    <tr>\n",
       "      <th>0</th>\n",
       "      <td>2</td>\n",
       "      <td>2</td>\n",
       "      <td>0</td>\n",
       "      <td>3</td>\n",
       "      <td>0</td>\n",
       "      <td>0</td>\n",
       "      <td>0</td>\n",
       "      <td>0</td>\n",
       "      <td>1</td>\n",
       "      <td>0</td>\n",
       "      <td>...</td>\n",
       "      <td>0</td>\n",
       "      <td>0</td>\n",
       "      <td>3</td>\n",
       "      <td>0</td>\n",
       "      <td>0</td>\n",
       "      <td>0</td>\n",
       "      <td>1</td>\n",
       "      <td>0</td>\n",
       "      <td>55.0</td>\n",
       "      <td>2</td>\n",
       "    </tr>\n",
       "    <tr>\n",
       "      <th>1</th>\n",
       "      <td>3</td>\n",
       "      <td>3</td>\n",
       "      <td>3</td>\n",
       "      <td>2</td>\n",
       "      <td>1</td>\n",
       "      <td>0</td>\n",
       "      <td>0</td>\n",
       "      <td>0</td>\n",
       "      <td>1</td>\n",
       "      <td>1</td>\n",
       "      <td>...</td>\n",
       "      <td>0</td>\n",
       "      <td>0</td>\n",
       "      <td>0</td>\n",
       "      <td>0</td>\n",
       "      <td>0</td>\n",
       "      <td>0</td>\n",
       "      <td>1</td>\n",
       "      <td>0</td>\n",
       "      <td>8.0</td>\n",
       "      <td>1</td>\n",
       "    </tr>\n",
       "    <tr>\n",
       "      <th>2</th>\n",
       "      <td>2</td>\n",
       "      <td>1</td>\n",
       "      <td>2</td>\n",
       "      <td>3</td>\n",
       "      <td>1</td>\n",
       "      <td>3</td>\n",
       "      <td>0</td>\n",
       "      <td>3</td>\n",
       "      <td>0</td>\n",
       "      <td>0</td>\n",
       "      <td>...</td>\n",
       "      <td>0</td>\n",
       "      <td>2</td>\n",
       "      <td>3</td>\n",
       "      <td>2</td>\n",
       "      <td>0</td>\n",
       "      <td>0</td>\n",
       "      <td>2</td>\n",
       "      <td>3</td>\n",
       "      <td>26.0</td>\n",
       "      <td>3</td>\n",
       "    </tr>\n",
       "    <tr>\n",
       "      <th>3</th>\n",
       "      <td>2</td>\n",
       "      <td>2</td>\n",
       "      <td>2</td>\n",
       "      <td>0</td>\n",
       "      <td>0</td>\n",
       "      <td>0</td>\n",
       "      <td>0</td>\n",
       "      <td>0</td>\n",
       "      <td>3</td>\n",
       "      <td>2</td>\n",
       "      <td>...</td>\n",
       "      <td>3</td>\n",
       "      <td>0</td>\n",
       "      <td>0</td>\n",
       "      <td>0</td>\n",
       "      <td>0</td>\n",
       "      <td>0</td>\n",
       "      <td>3</td>\n",
       "      <td>0</td>\n",
       "      <td>40.0</td>\n",
       "      <td>1</td>\n",
       "    </tr>\n",
       "    <tr>\n",
       "      <th>4</th>\n",
       "      <td>2</td>\n",
       "      <td>3</td>\n",
       "      <td>2</td>\n",
       "      <td>2</td>\n",
       "      <td>2</td>\n",
       "      <td>2</td>\n",
       "      <td>0</td>\n",
       "      <td>2</td>\n",
       "      <td>0</td>\n",
       "      <td>0</td>\n",
       "      <td>...</td>\n",
       "      <td>2</td>\n",
       "      <td>3</td>\n",
       "      <td>2</td>\n",
       "      <td>3</td>\n",
       "      <td>0</td>\n",
       "      <td>0</td>\n",
       "      <td>2</td>\n",
       "      <td>3</td>\n",
       "      <td>45.0</td>\n",
       "      <td>3</td>\n",
       "    </tr>\n",
       "  </tbody>\n",
       "</table>\n",
       "<p>5 rows × 35 columns</p>\n",
       "</div>"
      ],
      "text/plain": [
       "   erythema  scaling  definite borders  itching  koebner phenomenon  \\\n",
       "0         2        2                 0        3                   0   \n",
       "1         3        3                 3        2                   1   \n",
       "2         2        1                 2        3                   1   \n",
       "3         2        2                 2        0                   0   \n",
       "4         2        3                 2        2                   2   \n",
       "\n",
       "   polygonal papules  follicular papules  oral mucosal involvement  \\\n",
       "0                  0                   0                         0   \n",
       "1                  0                   0                         0   \n",
       "2                  3                   0                         3   \n",
       "3                  0                   0                         0   \n",
       "4                  2                   0                         2   \n",
       "\n",
       "   knee and elbow involvement  scalp involvement  ...  \\\n",
       "0                           1                  0  ...   \n",
       "1                           1                  1  ...   \n",
       "2                           0                  0  ...   \n",
       "3                           3                  2  ...   \n",
       "4                           0                  0  ...   \n",
       "\n",
       "   disappearance of the granular layer  \\\n",
       "0                                    0   \n",
       "1                                    0   \n",
       "2                                    0   \n",
       "3                                    3   \n",
       "4                                    2   \n",
       "\n",
       "   vacuolisation and damage of basal layer  spongiosis  \\\n",
       "0                                        0           3   \n",
       "1                                        0           0   \n",
       "2                                        2           3   \n",
       "3                                        0           0   \n",
       "4                                        3           2   \n",
       "\n",
       "   saw-tooth appearance of retes  follicular horn plug  \\\n",
       "0                              0                     0   \n",
       "1                              0                     0   \n",
       "2                              2                     0   \n",
       "3                              0                     0   \n",
       "4                              3                     0   \n",
       "\n",
       "   perifollicular parakeratosis  inflammatory monoluclear inflitrate  \\\n",
       "0                             0                                    1   \n",
       "1                             0                                    1   \n",
       "2                             0                                    2   \n",
       "3                             0                                    3   \n",
       "4                             0                                    2   \n",
       "\n",
       "   band-like infiltrate   age  class label  \n",
       "0                     0  55.0            2  \n",
       "1                     0   8.0            1  \n",
       "2                     3  26.0            3  \n",
       "3                     0  40.0            1  \n",
       "4                     3  45.0            3  \n",
       "\n",
       "[5 rows x 35 columns]"
      ]
     },
     "execution_count": 84,
     "metadata": {},
     "output_type": "execute_result"
    }
   ],
   "source": [
    "df.head()"
   ]
  },
  {
   "cell_type": "code",
   "execution_count": 85,
   "metadata": {
    "collapsed": true,
    "jupyter": {
     "outputs_hidden": true
    },
    "tags": []
   },
   "outputs": [
    {
     "data": {
      "text/plain": [
       "erythema                                    0\n",
       "scaling                                     0\n",
       "definite borders                            0\n",
       "itching                                     0\n",
       "koebner phenomenon                          0\n",
       "polygonal papules                           0\n",
       "follicular papules                          0\n",
       "oral mucosal involvement                    0\n",
       "knee and elbow involvement                  0\n",
       "scalp involvement                           0\n",
       "family history                              0\n",
       "melanin incontinence                        0\n",
       "eosinophils in the infiltrate               0\n",
       "PNL infiltrate                              0\n",
       "fibrosis of the papillary dermis            0\n",
       "exocytosis                                  0\n",
       "acanthosis                                  0\n",
       "hyperkeratosis                              0\n",
       "parakeratosis                               0\n",
       "clubbing of the rete ridges                 0\n",
       "elongation of the rete ridges               0\n",
       "thinning of the suprapapillary epidermis    0\n",
       "spongiform pustule                          0\n",
       "munro microabscess                          0\n",
       "focal hypergranulosis                       0\n",
       "disappearance of the granular layer         0\n",
       "vacuolisation and damage of basal layer     0\n",
       "spongiosis                                  0\n",
       "saw-tooth appearance of retes               0\n",
       "follicular horn plug                        0\n",
       "perifollicular parakeratosis                0\n",
       "inflammatory monoluclear inflitrate         0\n",
       "band-like infiltrate                        0\n",
       "age                                         8\n",
       "class label                                 0\n",
       "dtype: int64"
      ]
     },
     "execution_count": 85,
     "metadata": {},
     "output_type": "execute_result"
    }
   ],
   "source": [
    "df.isnull().sum()"
   ]
  },
  {
   "cell_type": "code",
   "execution_count": 87,
   "metadata": {},
   "outputs": [
    {
     "data": {
      "text/plain": [
       "count    358.000000\n",
       "mean      36.296089\n",
       "std       15.324557\n",
       "min        0.000000\n",
       "25%       25.000000\n",
       "50%       35.000000\n",
       "75%       49.750000\n",
       "max       75.000000\n",
       "Name: age, dtype: float64"
      ]
     },
     "execution_count": 87,
     "metadata": {},
     "output_type": "execute_result"
    }
   ],
   "source": [
    "df['age'].describe()"
   ]
  },
  {
   "cell_type": "code",
   "execution_count": 88,
   "metadata": {},
   "outputs": [],
   "source": [
    "# Replacing 0 and nan age with median age of the dataset\n",
    "df['age'] = df['age'].replace(np.nan, df['age'].median())\n",
    "df['age'] = df['age'].replace(0.0, df['age'].median())"
   ]
  },
  {
   "cell_type": "code",
   "execution_count": 89,
   "metadata": {},
   "outputs": [
    {
     "data": {
      "text/plain": [
       "count    366.000000\n",
       "mean      36.363388\n",
       "std       15.037366\n",
       "min        7.000000\n",
       "25%       25.000000\n",
       "50%       35.000000\n",
       "75%       48.000000\n",
       "max       75.000000\n",
       "Name: age, dtype: float64"
      ]
     },
     "execution_count": 89,
     "metadata": {},
     "output_type": "execute_result"
    }
   ],
   "source": [
    "df['age'].describe()"
   ]
  },
  {
   "cell_type": "code",
   "execution_count": 90,
   "metadata": {},
   "outputs": [
    {
     "data": {
      "text/plain": [
       "0"
      ]
     },
     "execution_count": 90,
     "metadata": {},
     "output_type": "execute_result"
    }
   ],
   "source": [
    "df['age'].isnull().sum()"
   ]
  },
  {
   "cell_type": "markdown",
   "metadata": {},
   "source": [
    "## Model training and testing"
   ]
  },
  {
   "cell_type": "markdown",
   "metadata": {},
   "source": [
    "1 - Support Vector Machines (SVM) - sklearn.svm.SVC\n",
    "\n",
    "2 - Random Forest - sklearn.ensemble.RandomForestClassifier\n",
    "\n",
    "3 - Naive Bayes - sklearn.naive_bayes.CategoricalNB\n",
    "\n",
    "4 - Decision tree - sklearn.tree.DecisionTreeClassifier\n",
    "\n",
    "5 - K-nearest neighbors (KNN) - sklearn.neighbors.KNeighborsClassifier\n",
    "\n",
    "6 - Gradient boosting DT - sklearn.ensemble.GradientBoostingClassifier"
   ]
  },
  {
   "cell_type": "code",
   "execution_count": 137,
   "metadata": {},
   "outputs": [],
   "source": [
    "from sklearn.model_selection import train_test_split\n",
    "from sklearn.pipeline import make_pipeline\n",
    "from sklearn.metrics import accuracy_score\n",
    "\n",
    "from sklearn.svm import SVC\n",
    "from sklearn.ensemble import RandomForestClassifier\n",
    "from sklearn.naive_bayes import CategoricalNB\n",
    "from sklearn.tree import DecisionTreeClassifier\n",
    "from sklearn.neighbors import KNeighborsClassifier\n",
    "from sklearn.ensemble import GradientBoostingClassifier"
   ]
  },
  {
   "cell_type": "code",
   "execution_count": 138,
   "metadata": {},
   "outputs": [],
   "source": [
    "X = df.drop('class label', axis=1)\n",
    "y = df['class label'] # target value\n",
    "X_train, X_test, y_train, y_test = train_test_split(X, y, stratify=y, test_size=0.1, random_state=1234)"
   ]
  },
  {
   "cell_type": "code",
   "execution_count": 139,
   "metadata": {},
   "outputs": [
    {
     "data": {
      "image/png": "[encoded data removed]",
      "text/plain": [
       "<Figure size 720x360 with 1 Axes>"
      ]
     },
     "metadata": {
      "needs_background": "light"
     },
     "output_type": "display_data"
    }
   ],
   "source": [
    "from collections import Counter \n",
    "data = Counter(list(y_train))\n",
    "\n",
    "courses = list(data.keys())\n",
    "values = list(data.values())\n",
    "\n",
    "fig = plt.figure(figsize = (10, 5))\n",
    "\n",
    "# creating the bar plot\n",
    "plt.bar(courses, values, color ='maroon', width = 0.4)\n",
    "plt.xlabel(\"Classes\")\n",
    "plt.ylabel(\"Number of samples\")\n",
    "plt.title('Distribution of classes in training set')\n",
    "plt.show()"
   ]
  },
  {
   "cell_type": "code",
   "execution_count": 140,
   "metadata": {},
   "outputs": [
    {
     "data": {
      "image/png": "[encoded data removed]",
      "text/plain": [
       "<Figure size 720x360 with 1 Axes>"
      ]
     },
     "metadata": {
      "needs_background": "light"
     },
     "output_type": "display_data"
    }
   ],
   "source": [
    "data = Counter(list(y_test))\n",
    "\n",
    "courses = list(data.keys())\n",
    "values = list(data.values())\n",
    "\n",
    "fig = plt.figure(figsize = (10, 5))\n",
    "\n",
    "# creating the bar plot\n",
    "plt.bar(courses, values, color ='maroon', width = 0.4)\n",
    "plt.xlabel(\"Classes\")\n",
    "plt.ylabel(\"Number of samples\")\n",
    "plt.title('Distribution of classes in test set')\n",
    "plt.show()"
   ]
  },
  {
   "cell_type": "code",
   "execution_count": 141,
   "metadata": {},
   "outputs": [],
   "source": [
    "pipelines = {\n",
    "    'svm':make_pipeline(SVC()),\n",
    "    'rf':make_pipeline(RandomForestClassifier()),\n",
    "    'cnb':make_pipeline(CategoricalNB()),\n",
    "    'dt':make_pipeline(DecisionTreeClassifier()),\n",
    "    'knn':make_pipeline(KNeighborsClassifier()),\n",
    "    'gb':make_pipeline(GradientBoostingClassifier()),\n",
    "}"
   ]
  },
  {
   "cell_type": "code",
   "execution_count": 142,
   "metadata": {},
   "outputs": [],
   "source": [
    "fit_models = {}\n",
    "for algo, pipeline in pipelines.items():\n",
    "    model = pipeline.fit(X_train, y_train)\n",
    "    fit_models[algo] = model"
   ]
  },
  {
   "cell_type": "code",
   "execution_count": 143,
   "metadata": {},
   "outputs": [
    {
     "data": {
      "text/plain": [
       "{'svm': Pipeline(steps=[('svc', SVC())]),\n",
       " 'rf': Pipeline(steps=[('randomforestclassifier', RandomForestClassifier())]),\n",
       " 'cnb': Pipeline(steps=[('categoricalnb', CategoricalNB())]),\n",
       " 'dt': Pipeline(steps=[('decisiontreeclassifier', DecisionTreeClassifier())]),\n",
       " 'knn': Pipeline(steps=[('kneighborsclassifier', KNeighborsClassifier())]),\n",
       " 'gb': Pipeline(steps=[('gradientboostingclassifier', GradientBoostingClassifier())])}"
      ]
     },
     "execution_count": 143,
     "metadata": {},
     "output_type": "execute_result"
    }
   ],
   "source": [
    "fit_models"
   ]
  },
  {
   "cell_type": "code",
   "execution_count": 144,
   "metadata": {},
   "outputs": [
    {
     "name": "stdout",
     "output_type": "stream",
     "text": [
      "svm 72.97 %\n",
      "rf 100.0 %\n",
      "cnb 100.0 %\n",
      "dt 94.59 %\n",
      "knn 83.78 %\n",
      "gb 100.0 %\n"
     ]
    }
   ],
   "source": [
    "for algo, model in fit_models.items():\n",
    "    yhat = model.predict(X_test)\n",
    "    print(algo, round(accuracy_score(y_test, yhat) * 100, 2), '%')"
   ]
  },
  {
   "cell_type": "code",
   "execution_count": 155,
   "metadata": {},
   "outputs": [],
   "source": [
    "from sklearn.metrics import confusion_matrix\n",
    "\n",
    "def plot_confusion_matrix(model):\n",
    "    cm = metrics.confusion_matrix(y_test, model.predict(X_test))\n",
    "    classes = class_labels.keys()\n",
    "\n",
    "    fig, ax = plt.subplots()\n",
    "    im = ax.imshow(cm, interpolation='nearest', cmap=plt.cm.summer)\n",
    "    ax.figure.colorbar(im, ax=ax)\n",
    "    ax.set(xticks=np.arange(cm.shape[1]),\n",
    "            yticks=np.arange(cm.shape[0]),\n",
    "            xticklabels=classes, yticklabels=classes,\n",
    "            title='Confusion Matrix',\n",
    "            ylabel='True label',\n",
    "            xlabel='Predicted label')\n",
    "\n",
    "    thresh = cm.max() / 2\n",
    "    for i in range(cm.shape[0]):\n",
    "        for j in range(cm.shape[1]):\n",
    "            ax.text(j, i, str(cm[i, j]), ha=\"center\", va=\"center\", color=\"black\")"
   ]
  },
  {
   "cell_type": "code",
   "execution_count": 156,
   "metadata": {},
   "outputs": [
    {
     "data": {
      "image/png": "[encoded data removed]",
      "text/plain": [
       "<Figure size 432x288 with 2 Axes>"
      ]
     },
     "metadata": {
      "needs_background": "light"
     },
     "output_type": "display_data"
    }
   ],
   "source": [
    "plot_confusion_matrix(fit_models['rf'])"
   ]
  },
  {
   "cell_type": "code",
   "execution_count": 157,
   "metadata": {},
   "outputs": [
    {
     "data": {
      "image/png": "[encoded data removed]",
      "text/plain": [
       "<Figure size 432x288 with 2 Axes>"
      ]
     },
     "metadata": {
      "needs_background": "light"
     },
     "output_type": "display_data"
    }
   ],
   "source": [
    "plot_confusion_matrix(fit_models['cnb'])"
   ]
  },
  {
   "cell_type": "code",
   "execution_count": 158,
   "metadata": {},
   "outputs": [
    {
     "data": {
      "image/png": "[encoded data removed]",
      "text/plain": [
       "<Figure size 432x288 with 2 Axes>"
      ]
     },
     "metadata": {
      "needs_background": "light"
     },
     "output_type": "display_data"
    }
   ],
   "source": [
    "plot_confusion_matrix(fit_models['gb'])"
   ]
  },
  {
   "cell_type": "code",
   "execution_count": 159,
   "metadata": {},
   "outputs": [
    {
     "data": {
      "image/png": "[encoded data removed]",
      "text/plain": [
       "<Figure size 432x288 with 2 Axes>"
      ]
     },
     "metadata": {
      "needs_background": "light"
     },
     "output_type": "display_data"
    }
   ],
   "source": [
    "plot_confusion_matrix(fit_models['dt'])"
   ]
  },
  {
   "cell_type": "code",
   "execution_count": null,
   "metadata": {},
   "outputs": [],
   "source": []
  },
  {
   "cell_type": "code",
   "execution_count": null,
   "metadata": {},
   "outputs": [],
   "source": []
  },
  {
   "cell_type": "markdown",
   "metadata": {},
   "source": [
    "7 - Multi-layered perceptron - sklearn.neural_network.MLPClassifier"
   ]
  },
  {
   "cell_type": "code",
   "execution_count": 160,
   "metadata": {},
   "outputs": [
    {
     "name": "stdout",
     "output_type": "stream",
     "text": [
      "Best parameters set found on development set:\n",
      "{'activation': 'identity', 'hidden_layer_sizes': (6,), 'solver': 'lbfgs'}\n"
     ]
    }
   ],
   "source": [
    "from sklearn.neural_network import MLPClassifier\n",
    "from sklearn.model_selection import GridSearchCV\n",
    "\n",
    "param_grid = [\n",
    "        {\n",
    "            'activation' : ['identity', 'logistic', 'tanh', 'relu'],\n",
    "            'solver' : ['lbfgs', 'sgd', 'adam'],\n",
    "            'hidden_layer_sizes': [\n",
    "             (1,),(2,),(3,),(4,),(5,),(6,),(7,),(8,),(9,),(10,),(11,), (12,)\n",
    "             ]\n",
    "        }\n",
    "       ]\n",
    "\n",
    "clf = GridSearchCV(MLPClassifier(), param_grid, cv=3, scoring='accuracy')\n",
    "clf.fit(X,y)\n",
    "\n",
    "print(\"Best parameters set found on development set:\")\n",
    "print(clf.best_params_)"
   ]
  },
  {
   "cell_type": "code",
   "execution_count": 163,
   "metadata": {},
   "outputs": [
    {
     "name": "stdout",
     "output_type": "stream",
     "text": [
      "mlp 97.3 %\n"
     ]
    }
   ],
   "source": [
    "mlp = MLPClassifier(hidden_layer_sizes=(6,), activation='identity', solver='lbfgs')\n",
    "mlp.fit(X_train, y_train)\n",
    "\n",
    "yhat = mlp.predict(X_test)\n",
    "print('mlp', round(accuracy_score(y_test, yhat) * 100, 2), '%')"
   ]
  },
  {
   "cell_type": "code",
   "execution_count": 164,
   "metadata": {},
   "outputs": [
    {
     "data": {
      "image/png": "[encoded data removed]",
      "text/plain": [
       "<Figure size 432x288 with 2 Axes>"
      ]
     },
     "metadata": {
      "needs_background": "light"
     },
     "output_type": "display_data"
    }
   ],
   "source": [
    "plot_confusion_matrix(mlp)"
   ]
  },
  {
   "cell_type": "code",
   "execution_count": null,
   "metadata": {},
   "outputs": [],
   "source": []
  },
  {
   "cell_type": "code",
   "execution_count": null,
   "metadata": {},
   "outputs": [],
   "source": []
  },
  {
   "cell_type": "markdown",
   "metadata": {},
   "source": [
    "8 - XGBoost - from xgboost import XGBClassifier"
   ]
  },
  {
   "cell_type": "code",
   "execution_count": 168,
   "metadata": {},
   "outputs": [
    {
     "name": "stdout",
     "output_type": "stream",
     "text": [
      "[23:36:22] WARNING: C:/Users/Administrator/workspace/xgboost-win64_release_1.4.0/src/learner.cc:1095: Starting in XGBoost 1.3.0, the default evaluation metric used with the objective 'multi:softprob' was changed from 'merror' to 'mlogloss'. Explicitly set eval_metric if you'd like to restore the old behavior.\n",
      "xgb 100.0 %\n"
     ]
    }
   ],
   "source": [
    "from xgboost import XGBClassifier\n",
    "\n",
    "xgb = XGBClassifier()\n",
    "xgb.fit(X_train, y_train)\n",
    "yhat = model.predict(X_test)\n",
    "print('xgb', round(accuracy_score(y_test, yhat) * 100, 2), '%')"
   ]
  },
  {
   "cell_type": "code",
   "execution_count": 169,
   "metadata": {},
   "outputs": [
    {
     "data": {
      "image/png": "[encoded data removed]",
      "text/plain": [
       "<Figure size 432x288 with 2 Axes>"
      ]
     },
     "metadata": {
      "needs_background": "light"
     },
     "output_type": "display_data"
    }
   ],
   "source": [
    "plot_confusion_matrix(xgb)"
   ]
  },
  {
   "cell_type": "code",
   "execution_count": null,
   "metadata": {},
   "outputs": [],
   "source": []
  },
  {
   "cell_type": "code",
   "execution_count": null,
   "metadata": {},
   "outputs": [],
   "source": []
  },
  {
   "cell_type": "code",
   "execution_count": null,
   "metadata": {},
   "outputs": [],
   "source": []
  },
  {
   "cell_type": "code",
   "execution_count": null,
   "metadata": {},
   "outputs": [],
   "source": []
  },
  {
   "cell_type": "code",
   "execution_count": null,
   "metadata": {},
   "outputs": [],
   "source": []
  },
  {
   "cell_type": "code",
   "execution_count": null,
   "metadata": {},
   "outputs": [],
   "source": []
  }
 ],
 "metadata": {
  "kernelspec": {
   "display_name": "Python 3 (ipykernel)",
   "language": "python",
   "name": "python3"
  },
  "language_info": {
   "codemirror_mode": {
    "name": "ipython",
    "version": 3
   },
   "file_extension": ".py",
   "mimetype": "text/x-python",
   "name": "python",
   "nbconvert_exporter": "python",
   "pygments_lexer": "ipython3",
   "version": "3.9.6"
  }
 },
 "nbformat": 4,
 "nbformat_minor": 4
}
